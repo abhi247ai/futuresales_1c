{
 "cells": [
  {
   "cell_type": "markdown",
   "id": "9b38c91a",
   "metadata": {},
   "source": [
    "## Linear Regression Model "
   ]
  },
  {
   "cell_type": "code",
   "execution_count": 1,
   "id": "96c4653e",
   "metadata": {},
   "outputs": [],
   "source": [
    "import pandas as pd\n",
    "import numpy as np\n",
    "import matplotlib.pyplot as plt\n",
    "import seaborn as sns\n",
    "\n",
    "%matplotlib inline"
   ]
  },
  {
   "cell_type": "code",
   "execution_count": 2,
   "id": "7b6e86b4",
   "metadata": {},
   "outputs": [],
   "source": [
    "df = pd.read_csv(\"train.csv\")"
   ]
  },
  {
   "cell_type": "code",
   "execution_count": 6,
   "id": "cba6afb0",
   "metadata": {},
   "outputs": [],
   "source": [
    "from sklearn import preprocessing\n",
    "from sklearn.model_selection import train_test_split\n",
    "from sklearn.preprocessing import MinMaxScaler\n",
    "from sklearn.linear_model import LinearRegression\n",
    "from sklearn import metrics"
   ]
  },
  {
   "cell_type": "code",
   "execution_count": 9,
   "id": "9ac92699",
   "metadata": {},
   "outputs": [
    {
     "name": "stdout",
     "output_type": "stream",
     "text": [
      "[[0.         0.56836586]\n",
      " [0.03030303 0.54016063]\n",
      " [0.06060606 0.69872248]\n",
      " [0.09090909 0.36621863]\n",
      " [0.12121212 0.36438767]\n",
      " [0.15151515 0.51761475]\n",
      " [0.18181818 0.44758021]\n",
      " [0.21212121 0.51686572]\n",
      " [0.24242424 0.58378761]\n",
      " [0.27272727 0.53559153]\n",
      " [0.3030303  0.55613166]\n",
      " [0.33333333 1.        ]\n",
      " [0.36363636 0.4470226 ]\n",
      " [0.39393939 0.38700012]\n",
      " [0.42424242 0.43368982]\n",
      " [0.45454545 0.27771628]\n",
      " [0.48484848 0.28798635]\n",
      " [0.51515152 0.2849819 ]\n",
      " [0.54545455 0.23380633]\n",
      " [0.57575758 0.32902501]\n",
      " [0.60606061 0.29978777]\n",
      " [0.63636364 0.36814947]\n",
      " [0.66666667 0.45489576]\n",
      " [0.6969697  0.87859848]\n",
      " [0.72727273 0.39768632]\n",
      " [0.75757576 0.1748658 ]\n",
      " [0.78787879 0.15668928]\n",
      " [0.81818182 0.12184262]\n",
      " [0.84848485 0.07580209]\n",
      " [0.87878788 0.00771503]\n",
      " [0.90909091 0.        ]\n",
      " [0.93939394 0.02406891]\n",
      " [0.96969697 0.08036286]\n",
      " [1.         0.06549041]]\n"
     ]
    }
   ],
   "source": [
    "# define min max scaler\n",
    "scaler = MinMaxScaler()\n",
    "# transform data\n",
    "scaled = scaler.fit_transform(df)\n",
    "print(scaled)"
   ]
  },
  {
   "cell_type": "code",
   "execution_count": 10,
   "id": "f6baed1c",
   "metadata": {},
   "outputs": [],
   "source": [
    "#indep & dep variable\n",
    "\n",
    "X = df['date_block_num'].values.reshape(-1,1)\n",
    "y= df['item_cnt_month'].values.reshape(-1,1)"
   ]
  },
  {
   "cell_type": "code",
   "execution_count": 29,
   "id": "80fd7f52",
   "metadata": {},
   "outputs": [],
   "source": [
    "X_train, X_test, y_train, y_test = train_test_split(X, y, test_size=0.2, random_state=0, shuffle = False)"
   ]
  },
  {
   "cell_type": "code",
   "execution_count": 30,
   "id": "0a11ace1",
   "metadata": {},
   "outputs": [
    {
     "data": {
      "text/plain": [
       "LinearRegression()"
      ]
     },
     "execution_count": 30,
     "metadata": {},
     "output_type": "execute_result"
    }
   ],
   "source": [
    "regressor = LinearRegression()  \n",
    "regressor.fit(X_train, y_train) #training the algorithm"
   ]
  },
  {
   "cell_type": "code",
   "execution_count": 31,
   "id": "1d3ba08d",
   "metadata": {},
   "outputs": [
    {
     "name": "stdout",
     "output_type": "stream",
     "text": [
      "[131829.08994709]\n",
      "[[-1135.55677656]]\n"
     ]
    }
   ],
   "source": [
    "#To retrieve the intercept:\n",
    "print(regressor.intercept_)\n",
    "\n",
    "#For retrieving the slope:\n",
    "print(regressor.coef_)"
   ]
  },
  {
   "cell_type": "code",
   "execution_count": 32,
   "id": "c637644e",
   "metadata": {},
   "outputs": [],
   "source": [
    "y_pred = regressor.predict(X_test)"
   ]
  },
  {
   "cell_type": "code",
   "execution_count": 33,
   "id": "077a7736",
   "metadata": {},
   "outputs": [
    {
     "name": "stdout",
     "output_type": "stream",
     "text": [
      "[[101169.05698006]\n",
      " [100033.5002035 ]\n",
      " [ 98897.94342694]\n",
      " [ 97762.38665039]\n",
      " [ 96626.82987383]\n",
      " [ 95491.27309727]\n",
      " [ 94355.71632072]]\n"
     ]
    }
   ],
   "source": [
    "print(y_pred)"
   ]
  },
  {
   "cell_type": "code",
   "execution_count": 34,
   "id": "1fe59d15",
   "metadata": {},
   "outputs": [
    {
     "name": "stdout",
     "output_type": "stream",
     "text": [
      "Mean Absolute Error: 28133.672364672373\n",
      "Mean Squared Error: 815521009.2667595\n",
      "Root Mean Squared Error: 28557.32846865686\n"
     ]
    }
   ],
   "source": [
    "#Evaluatin\n",
    "\n",
    "print('Mean Absolute Error:', metrics.mean_absolute_error(y_test, y_pred))  \n",
    "print('Mean Squared Error:', metrics.mean_squared_error(y_test, y_pred))  \n",
    "print('Root Mean Squared Error:', np.sqrt(metrics.mean_squared_error(y_test, y_pred)))"
   ]
  },
  {
   "cell_type": "code",
   "execution_count": 35,
   "id": "d625eb78",
   "metadata": {},
   "outputs": [
    {
     "data": {
      "image/png": "[encoded data removed]",
      "text/plain": [
       "<Figure size 432x288 with 1 Axes>"
      ]
     },
     "metadata": {
      "needs_background": "light"
     },
     "output_type": "display_data"
    }
   ],
   "source": [
    "plt.scatter(X_test, y_test,  color='gray')\n",
    "plt.plot(X_test, y_pred, color='red', linewidth=2)\n",
    "plt.show()\n"
   ]
  },
  {
   "cell_type": "markdown",
   "id": "f4bfb2c6",
   "metadata": {},
   "source": [
    "# model failed"
   ]
  },
  {
   "cell_type": "code",
   "execution_count": null,
   "id": "b3eb513f",
   "metadata": {},
   "outputs": [],
   "source": []
  }
 ],
 "metadata": {
  "kernelspec": {
   "display_name": "Python 3",
   "language": "python",
   "name": "python3"
  },
  "language_info": {
   "codemirror_mode": {
    "name": "ipython",
    "version": 3
   },
   "file_extension": ".py",
   "mimetype": "text/x-python",
   "name": "python",
   "nbconvert_exporter": "python",
   "pygments_lexer": "ipython3",
   "version": "3.9.6"
  }
 },
 "nbformat": 4,
 "nbformat_minor": 5
}
