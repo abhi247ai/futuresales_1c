{
 "cells": [
  {
   "cell_type": "markdown",
   "id": "05cae36f",
   "metadata": {},
   "source": [
    "## Linear Regression Model "
   ]
  },
  {
   "cell_type": "code",
   "execution_count": 1,
   "id": "0887f30e",
   "metadata": {},
   "outputs": [],
   "source": [
    "import pandas as pd\n",
    "import numpy as np\n",
    "import matplotlib.pyplot as plt\n",
    "import seaborn as sns\n",
    "\n",
    "%matplotlib inline"
   ]
  },
  {
   "cell_type": "code",
   "execution_count": 5,
   "id": "367f439c",
   "metadata": {},
   "outputs": [],
   "source": [
    "import xgboost as xgb \n",
    "from sklearn.ensemble import RandomForestRegressor"
   ]
  },
  {
   "cell_type": "code",
   "execution_count": 4,
   "id": "d1872657",
   "metadata": {},
   "outputs": [
    {
     "name": "stdout",
     "output_type": "stream",
     "text": [
      "Collecting xgboost\n",
      "  Downloading xgboost-1.4.2-py3-none-win_amd64.whl (97.8 MB)\n",
      "Requirement already satisfied: scipy in c:\\users\\acer\\anaconda3\\envs\\futuresale\\lib\\site-packages (from xgboost) (1.7.1)\n",
      "Requirement already satisfied: numpy in c:\\users\\acer\\anaconda3\\envs\\futuresale\\lib\\site-packages (from xgboost) (1.21.1)\n",
      "Installing collected packages: xgboost\n",
      "Successfully installed xgboost-1.4.2\n"
     ]
    }
   ],
   "source": [
    "!pip install xgboost\n"
   ]
  },
  {
   "cell_type": "code",
   "execution_count": 9,
   "id": "d9174c41",
   "metadata": {},
   "outputs": [],
   "source": [
    "train = pd.read_csv('train.csv')\n",
    "test = pd.read_csv('test.csv')\n"
   ]
  },
  {
   "cell_type": "code",
   "execution_count": 15,
   "id": "ca9b4a31",
   "metadata": {},
   "outputs": [
    {
     "data": {
      "text/plain": [
       "Index(['date_block_num', 'shop_id', 'item_id', 'item_price', 'item_cnt_month'], dtype='object')"
      ]
     },
     "execution_count": 15,
     "metadata": {},
     "output_type": "execute_result"
    }
   ],
   "source": [
    "train.columns"
   ]
  },
  {
   "cell_type": "code",
   "execution_count": 70,
   "id": "cfe44bbd",
   "metadata": {},
   "outputs": [],
   "source": [
    "X_train = train.where(train['date_block_num'] <32).dropna().reset_index()"
   ]
  },
  {
   "cell_type": "code",
   "execution_count": 72,
   "id": "996d50f7",
   "metadata": {},
   "outputs": [],
   "source": [
    "X_train.drop('index', axis =1, inplace = True)\n"
   ]
  },
  {
   "cell_type": "code",
   "execution_count": 82,
   "id": "7122913c",
   "metadata": {},
   "outputs": [
    {
     "data": {
      "text/html": [
       "<div>\n",
       "<style scoped>\n",
       "    .dataframe tbody tr th:only-of-type {\n",
       "        vertical-align: middle;\n",
       "    }\n",
       "\n",
       "    .dataframe tbody tr th {\n",
       "        vertical-align: top;\n",
       "    }\n",
       "\n",
       "    .dataframe thead th {\n",
       "        text-align: right;\n",
       "    }\n",
       "</style>\n",
       "<table border=\"1\" class=\"dataframe\">\n",
       "  <thead>\n",
       "    <tr style=\"text-align: right;\">\n",
       "      <th></th>\n",
       "      <th>date_block_num</th>\n",
       "      <th>shop_id</th>\n",
       "      <th>item_id</th>\n",
       "      <th>item_price</th>\n",
       "    </tr>\n",
       "  </thead>\n",
       "  <tbody>\n",
       "    <tr>\n",
       "      <th>0</th>\n",
       "      <td>0.0</td>\n",
       "      <td>0.0</td>\n",
       "      <td>32.0</td>\n",
       "      <td>221.0</td>\n",
       "    </tr>\n",
       "    <tr>\n",
       "      <th>1</th>\n",
       "      <td>0.0</td>\n",
       "      <td>0.0</td>\n",
       "      <td>33.0</td>\n",
       "      <td>347.0</td>\n",
       "    </tr>\n",
       "    <tr>\n",
       "      <th>2</th>\n",
       "      <td>0.0</td>\n",
       "      <td>0.0</td>\n",
       "      <td>35.0</td>\n",
       "      <td>247.0</td>\n",
       "    </tr>\n",
       "    <tr>\n",
       "      <th>3</th>\n",
       "      <td>0.0</td>\n",
       "      <td>0.0</td>\n",
       "      <td>43.0</td>\n",
       "      <td>221.0</td>\n",
       "    </tr>\n",
       "    <tr>\n",
       "      <th>4</th>\n",
       "      <td>0.0</td>\n",
       "      <td>0.0</td>\n",
       "      <td>51.0</td>\n",
       "      <td>127.0</td>\n",
       "    </tr>\n",
       "    <tr>\n",
       "      <th>...</th>\n",
       "      <td>...</td>\n",
       "      <td>...</td>\n",
       "      <td>...</td>\n",
       "      <td>...</td>\n",
       "    </tr>\n",
       "    <tr>\n",
       "      <th>1547910</th>\n",
       "      <td>31.0</td>\n",
       "      <td>59.0</td>\n",
       "      <td>22088.0</td>\n",
       "      <td>119.0</td>\n",
       "    </tr>\n",
       "    <tr>\n",
       "      <th>1547911</th>\n",
       "      <td>31.0</td>\n",
       "      <td>59.0</td>\n",
       "      <td>22092.0</td>\n",
       "      <td>179.0</td>\n",
       "    </tr>\n",
       "    <tr>\n",
       "      <th>1547912</th>\n",
       "      <td>31.0</td>\n",
       "      <td>59.0</td>\n",
       "      <td>22102.0</td>\n",
       "      <td>1250.0</td>\n",
       "    </tr>\n",
       "    <tr>\n",
       "      <th>1547913</th>\n",
       "      <td>31.0</td>\n",
       "      <td>59.0</td>\n",
       "      <td>22105.0</td>\n",
       "      <td>199.0</td>\n",
       "    </tr>\n",
       "    <tr>\n",
       "      <th>1547914</th>\n",
       "      <td>31.0</td>\n",
       "      <td>59.0</td>\n",
       "      <td>22162.0</td>\n",
       "      <td>349.0</td>\n",
       "    </tr>\n",
       "  </tbody>\n",
       "</table>\n",
       "<p>1547915 rows × 4 columns</p>\n",
       "</div>"
      ],
      "text/plain": [
       "         date_block_num  shop_id  item_id  item_price\n",
       "0                   0.0      0.0     32.0       221.0\n",
       "1                   0.0      0.0     33.0       347.0\n",
       "2                   0.0      0.0     35.0       247.0\n",
       "3                   0.0      0.0     43.0       221.0\n",
       "4                   0.0      0.0     51.0       127.0\n",
       "...                 ...      ...      ...         ...\n",
       "1547910            31.0     59.0  22088.0       119.0\n",
       "1547911            31.0     59.0  22092.0       179.0\n",
       "1547912            31.0     59.0  22102.0      1250.0\n",
       "1547913            31.0     59.0  22105.0       199.0\n",
       "1547914            31.0     59.0  22162.0       349.0\n",
       "\n",
       "[1547915 rows x 4 columns]"
      ]
     },
     "execution_count": 82,
     "metadata": {},
     "output_type": "execute_result"
    }
   ],
   "source": [
    "X_train = X_train.iloc[:,:4]\n",
    "X_train"
   ]
  },
  {
   "cell_type": "code",
   "execution_count": 31,
   "id": "5374b885",
   "metadata": {},
   "outputs": [
    {
     "data": {
      "text/plain": [
       "Index(['date_block_num', 'shop_id', 'item_id', 'item_price', 'item_cnt_month'], dtype='object')"
      ]
     },
     "execution_count": 31,
     "metadata": {},
     "output_type": "execute_result"
    }
   ],
   "source": [
    "train.columns"
   ]
  },
  {
   "cell_type": "code",
   "execution_count": 83,
   "id": "a2465a4e",
   "metadata": {},
   "outputs": [
    {
     "data": {
      "text/plain": [
       "Index(['item_cnt_month'], dtype='object')"
      ]
     },
     "execution_count": 83,
     "metadata": {},
     "output_type": "execute_result"
    }
   ],
   "source": [
    "y_train = train.where(train['date_block_num'] <32).dropna().reset_index()\n",
    "y_train.drop('index', axis =1, inplace = True)\n",
    "y_train = y_train.iloc[:,-1:]\n",
    "y_train.columns"
   ]
  },
  {
   "cell_type": "code",
   "execution_count": null,
   "id": "f21ca296",
   "metadata": {},
   "outputs": [],
   "source": []
  },
  {
   "cell_type": "code",
   "execution_count": 75,
   "id": "5ebc0375",
   "metadata": {},
   "outputs": [],
   "source": [
    "X_test = train.where(train['date_block_num'] >31).dropna().reset_index()"
   ]
  },
  {
   "cell_type": "code",
   "execution_count": 76,
   "id": "eb11f05a",
   "metadata": {},
   "outputs": [],
   "source": [
    "X_test.drop('index', axis=1 ,inplace =True)"
   ]
  },
  {
   "cell_type": "code",
   "execution_count": 85,
   "id": "a605cc66",
   "metadata": {},
   "outputs": [
    {
     "data": {
      "text/html": [
       "<div>\n",
       "<style scoped>\n",
       "    .dataframe tbody tr th:only-of-type {\n",
       "        vertical-align: middle;\n",
       "    }\n",
       "\n",
       "    .dataframe tbody tr th {\n",
       "        vertical-align: top;\n",
       "    }\n",
       "\n",
       "    .dataframe thead th {\n",
       "        text-align: right;\n",
       "    }\n",
       "</style>\n",
       "<table border=\"1\" class=\"dataframe\">\n",
       "  <thead>\n",
       "    <tr style=\"text-align: right;\">\n",
       "      <th></th>\n",
       "      <th>date_block_num</th>\n",
       "      <th>shop_id</th>\n",
       "      <th>item_id</th>\n",
       "      <th>item_price</th>\n",
       "    </tr>\n",
       "  </thead>\n",
       "  <tbody>\n",
       "    <tr>\n",
       "      <th>0</th>\n",
       "      <td>32.0</td>\n",
       "      <td>2.0</td>\n",
       "      <td>33.0</td>\n",
       "      <td>199.0</td>\n",
       "    </tr>\n",
       "    <tr>\n",
       "      <th>1</th>\n",
       "      <td>32.0</td>\n",
       "      <td>2.0</td>\n",
       "      <td>486.0</td>\n",
       "      <td>300.0</td>\n",
       "    </tr>\n",
       "    <tr>\n",
       "      <th>2</th>\n",
       "      <td>32.0</td>\n",
       "      <td>2.0</td>\n",
       "      <td>792.0</td>\n",
       "      <td>979.0</td>\n",
       "    </tr>\n",
       "    <tr>\n",
       "      <th>3</th>\n",
       "      <td>32.0</td>\n",
       "      <td>2.0</td>\n",
       "      <td>975.0</td>\n",
       "      <td>349.0</td>\n",
       "    </tr>\n",
       "    <tr>\n",
       "      <th>4</th>\n",
       "      <td>32.0</td>\n",
       "      <td>2.0</td>\n",
       "      <td>1090.0</td>\n",
       "      <td>499.0</td>\n",
       "    </tr>\n",
       "  </tbody>\n",
       "</table>\n",
       "</div>"
      ],
      "text/plain": [
       "   date_block_num  shop_id  item_id  item_price\n",
       "0            32.0      2.0     33.0       199.0\n",
       "1            32.0      2.0    486.0       300.0\n",
       "2            32.0      2.0    792.0       979.0\n",
       "3            32.0      2.0    975.0       349.0\n",
       "4            32.0      2.0   1090.0       499.0"
      ]
     },
     "execution_count": 85,
     "metadata": {},
     "output_type": "execute_result"
    }
   ],
   "source": [
    "X_test = X_test.iloc[:,:4]\n",
    "X_test.head()"
   ]
  },
  {
   "cell_type": "code",
   "execution_count": 105,
   "id": "3bba55a9",
   "metadata": {},
   "outputs": [
    {
     "data": {
      "text/plain": [
       "Index(['item_cnt_month'], dtype='object')"
      ]
     },
     "execution_count": 105,
     "metadata": {},
     "output_type": "execute_result"
    }
   ],
   "source": [
    "y_test = train.where(train['date_block_num'] >31).dropna().reset_index()\n",
    "y_test.drop('index', axis =1, inplace = True)\n",
    "y_test = y_test.iloc[:,-1:]\n",
    "y_test.columns"
   ]
  },
  {
   "cell_type": "code",
   "execution_count": 93,
   "id": "b05dd43f",
   "metadata": {},
   "outputs": [],
   "source": [
    "from sklearn.metrics import mean_squared_error"
   ]
  },
  {
   "cell_type": "code",
   "execution_count": 111,
   "id": "1c8a2fcb",
   "metadata": {},
   "outputs": [],
   "source": [
    "from sklearn.ensemble import RandomForestRegressor"
   ]
  },
  {
   "cell_type": "code",
   "execution_count": 106,
   "id": "94cea417",
   "metadata": {},
   "outputs": [
    {
     "name": "stdout",
     "output_type": "stream",
     "text": [
      "RMSE: 16.548208\n"
     ]
    }
   ],
   "source": [
    "# Call model frame work for linear regression\n",
    "\n",
    "Linear_Regression = LinearRegression()\n",
    "Linear_Regression.fit(X_train, y_train)\n",
    "\n",
    "predictions = Linear_Regression.predict(X_test)\n",
    "rmse = np.sqrt(mean_squared_error(y_test, predictions))\n",
    "print(\"RMSE: %f\" % (rmse))\n"
   ]
  },
  {
   "cell_type": "code",
   "execution_count": 181,
   "id": "b77d8040",
   "metadata": {},
   "outputs": [
    {
     "data": {
      "text/plain": [
       "(61209, 4)"
      ]
     },
     "execution_count": 181,
     "metadata": {},
     "output_type": "execute_result"
    }
   ],
   "source": [
    "X_test.shape"
   ]
  },
  {
   "cell_type": "code",
   "execution_count": 110,
   "id": "b43d5ce5",
   "metadata": {},
   "outputs": [
    {
     "data": {
      "text/plain": [
       "((1547915, 4), (1547915, 1), (61209, 4), (61209, 1))"
      ]
     },
     "execution_count": 110,
     "metadata": {},
     "output_type": "execute_result"
    }
   ],
   "source": [
    "X_train.shape, y_train.shape, X_test.shape, y_test.shape"
   ]
  },
  {
   "cell_type": "code",
   "execution_count": 117,
   "id": "b6591f27",
   "metadata": {},
   "outputs": [
    {
     "name": "stdout",
     "output_type": "stream",
     "text": [
      "RMSE: 14.968142\n"
     ]
    }
   ],
   "source": [
    "#target conversion in to flattened array\n",
    "new_y_train = y_train.values.ravel()\n",
    "\n",
    "# Call model frame work for random forest regressor \n",
    "RF_model = RandomForestRegressor(n_estimators=100,max_depth=20)\n",
    "RF_model.fit(X_train, new_y_train)\n",
    "\n",
    "pred_RF = RF_model.predict(X_test)\n",
    "rmse = np.sqrt(mean_squared_error(y_test, pred_RF ))\n",
    "print(\"RMSE: %f\" % (rmse))\n"
   ]
  },
  {
   "cell_type": "code",
   "execution_count": 119,
   "id": "6e70a4a7",
   "metadata": {},
   "outputs": [],
   "source": [
    "from xgboost import XGBRegressor"
   ]
  },
  {
   "cell_type": "code",
   "execution_count": 121,
   "id": "f10bfd88",
   "metadata": {},
   "outputs": [
    {
     "name": "stdout",
     "output_type": "stream",
     "text": [
      "RMSE: 15.368742\n"
     ]
    }
   ],
   "source": [
    "# Call model frame work for XGBoost\n",
    "\n",
    "XG_model = XGBRegressor(n_estimators=100,learning_rate=0.2)\n",
    "XG_model.fit(X_train,y_train)\n",
    "\n",
    "preds = XG_model.predict(X_test)\n",
    "rmse = np.sqrt(mean_squared_error(y_test, preds))\n",
    "print(\"RMSE: %f\" % (rmse))"
   ]
  },
  {
   "cell_type": "code",
   "execution_count": 124,
   "id": "fd2837a5",
   "metadata": {},
   "outputs": [
    {
     "name": "stdout",
     "output_type": "stream",
     "text": [
      "[1.03424693 1.73501923 2.9836923  ... 2.63333333 2.39320174 2.14518218]\n"
     ]
    }
   ],
   "source": [
    "print(pred_RF)"
   ]
  },
  {
   "cell_type": "code",
   "execution_count": 125,
   "id": "40650f75",
   "metadata": {},
   "outputs": [
    {
     "name": "stdout",
     "output_type": "stream",
     "text": [
      "[1.2112683 2.8839986 0.9774871 ... 2.196866  1.6006378 3.1679978]\n"
     ]
    }
   ],
   "source": [
    "print(preds)"
   ]
  },
  {
   "cell_type": "code",
   "execution_count": 136,
   "id": "8a71def9",
   "metadata": {},
   "outputs": [
    {
     "name": "stdout",
     "output_type": "stream",
     "text": [
      "RMSE: 17.285402\n"
     ]
    }
   ],
   "source": [
    "#test on new data for RF model\n",
    "test = pd.read_csv('test.csv')\n",
    "\n",
    "#to  shuffle dataframe to mix values (eliminate biasness)\n",
    "#new_test = test.sample(frac=1).reset_index(drop=True)\n",
    "new_pred_RF = RF_model.predict(new_test)\n",
    "\n",
    "rmse = np.sqrt(mean_squared_error(y_test, new_pred_RF[0:61209]))\n",
    "print(\"RMSE: %f\" % (rmse))\n"
   ]
  },
  {
   "cell_type": "code",
   "execution_count": 179,
   "id": "f4ee8d20",
   "metadata": {},
   "outputs": [
    {
     "data": {
      "text/plain": [
       "((214200,), (61209, 1))"
      ]
     },
     "execution_count": 179,
     "metadata": {},
     "output_type": "execute_result"
    }
   ],
   "source": [
    "new_pred_RF.shape, y_test.shape"
   ]
  },
  {
   "cell_type": "code",
   "execution_count": 191,
   "id": "276f4719",
   "metadata": {},
   "outputs": [
    {
     "name": "stdout",
     "output_type": "stream",
     "text": [
      "RMSE1: 16.550371\n",
      "RMSE2: 16.550038\n",
      "RMSE3: 16.548764\n",
      "RMSE4: 18.183192\n"
     ]
    }
   ],
   "source": [
    "predicts = Linear_Regression.predict(test)\n",
    "rmse1 = np.sqrt(mean_squared_error(y_test, predicts[0:61209]))\n",
    "rmse2 = np.sqrt(mean_squared_error(y_test, predicts[61210:122419]))\n",
    "rmse3 = np.sqrt(mean_squared_error(y_test, predicts[122419:183628]))\n",
    "rmse4 = np.sqrt(mean_squared_error(y_test[0:30572], predicts[183628:214200]))\n",
    "print(\"RMSE1: %f\" % (rmse1))\n",
    "print(\"RMSE2: %f\" % (rmse2))\n",
    "print(\"RMSE3: %f\" % (rmse3))\n",
    "print(\"RMSE4: %f\" % (rmse4))"
   ]
  },
  {
   "cell_type": "code",
   "execution_count": 202,
   "id": "5bcc4c24",
   "metadata": {},
   "outputs": [],
   "source": [
    "predicts_2 = Linear_Regression.predict(test).clip(0,20)"
   ]
  },
  {
   "cell_type": "code",
   "execution_count": 205,
   "id": "e86963ed",
   "metadata": {},
   "outputs": [],
   "source": [
    "sample_submission = pd.read_csv('sample_submission.csv')"
   ]
  },
  {
   "cell_type": "code",
   "execution_count": 211,
   "id": "bbecfba2",
   "metadata": {},
   "outputs": [
    {
     "ename": "ValueError",
     "evalue": "could not convert string to float: 'date_block_num'",
     "output_type": "error",
     "traceback": [
      "\u001b[1;31m---------------------------------------------------------------------------\u001b[0m",
      "\u001b[1;31mValueError\u001b[0m                                Traceback (most recent call last)",
      "\u001b[1;32m<ipython-input-211-16195aeb70a3>\u001b[0m in \u001b[0;36m<module>\u001b[1;34m\u001b[0m\n\u001b[1;32m----> 1\u001b[1;33m \u001b[0msample_submission\u001b[0m\u001b[1;33m[\u001b[0m\u001b[1;34m'item_cnt_month'\u001b[0m\u001b[1;33m]\u001b[0m \u001b[1;33m=\u001b[0m \u001b[0mLinear_Regression\u001b[0m\u001b[1;33m.\u001b[0m\u001b[0mpredict\u001b[0m\u001b[1;33m(\u001b[0m\u001b[0mtest\u001b[0m\u001b[1;33m.\u001b[0m\u001b[0mcolumns\u001b[0m\u001b[1;33m)\u001b[0m\u001b[1;33m.\u001b[0m\u001b[0mclip\u001b[0m\u001b[1;33m(\u001b[0m\u001b[1;36m0\u001b[0m\u001b[1;33m,\u001b[0m \u001b[1;36m20\u001b[0m\u001b[1;33m)\u001b[0m\u001b[1;33m\u001b[0m\u001b[1;33m\u001b[0m\u001b[0m\n\u001b[0m\u001b[0;32m      2\u001b[0m \u001b[0msample_submission\u001b[0m\u001b[1;33m.\u001b[0m\u001b[0mto_csv\u001b[0m\u001b[1;33m(\u001b[0m\u001b[1;34m'submission_247ai.csv'\u001b[0m\u001b[1;33m)\u001b[0m\u001b[1;33m\u001b[0m\u001b[1;33m\u001b[0m\u001b[0m\n",
      "\u001b[1;32m~\\anaconda3\\envs\\futuresale\\lib\\site-packages\\sklearn\\linear_model\\_base.py\u001b[0m in \u001b[0;36mpredict\u001b[1;34m(self, X)\u001b[0m\n\u001b[0;32m    236\u001b[0m             \u001b[0mReturns\u001b[0m \u001b[0mpredicted\u001b[0m \u001b[0mvalues\u001b[0m\u001b[1;33m.\u001b[0m\u001b[1;33m\u001b[0m\u001b[1;33m\u001b[0m\u001b[0m\n\u001b[0;32m    237\u001b[0m         \"\"\"\n\u001b[1;32m--> 238\u001b[1;33m         \u001b[1;32mreturn\u001b[0m \u001b[0mself\u001b[0m\u001b[1;33m.\u001b[0m\u001b[0m_decision_function\u001b[0m\u001b[1;33m(\u001b[0m\u001b[0mX\u001b[0m\u001b[1;33m)\u001b[0m\u001b[1;33m\u001b[0m\u001b[1;33m\u001b[0m\u001b[0m\n\u001b[0m\u001b[0;32m    239\u001b[0m \u001b[1;33m\u001b[0m\u001b[0m\n\u001b[0;32m    240\u001b[0m     \u001b[0m_preprocess_data\u001b[0m \u001b[1;33m=\u001b[0m \u001b[0mstaticmethod\u001b[0m\u001b[1;33m(\u001b[0m\u001b[0m_preprocess_data\u001b[0m\u001b[1;33m)\u001b[0m\u001b[1;33m\u001b[0m\u001b[1;33m\u001b[0m\u001b[0m\n",
      "\u001b[1;32m~\\anaconda3\\envs\\futuresale\\lib\\site-packages\\sklearn\\linear_model\\_base.py\u001b[0m in \u001b[0;36m_decision_function\u001b[1;34m(self, X)\u001b[0m\n\u001b[0;32m    218\u001b[0m         \u001b[0mcheck_is_fitted\u001b[0m\u001b[1;33m(\u001b[0m\u001b[0mself\u001b[0m\u001b[1;33m)\u001b[0m\u001b[1;33m\u001b[0m\u001b[1;33m\u001b[0m\u001b[0m\n\u001b[0;32m    219\u001b[0m \u001b[1;33m\u001b[0m\u001b[0m\n\u001b[1;32m--> 220\u001b[1;33m         \u001b[0mX\u001b[0m \u001b[1;33m=\u001b[0m \u001b[0mcheck_array\u001b[0m\u001b[1;33m(\u001b[0m\u001b[0mX\u001b[0m\u001b[1;33m,\u001b[0m \u001b[0maccept_sparse\u001b[0m\u001b[1;33m=\u001b[0m\u001b[1;33m[\u001b[0m\u001b[1;34m'csr'\u001b[0m\u001b[1;33m,\u001b[0m \u001b[1;34m'csc'\u001b[0m\u001b[1;33m,\u001b[0m \u001b[1;34m'coo'\u001b[0m\u001b[1;33m]\u001b[0m\u001b[1;33m)\u001b[0m\u001b[1;33m\u001b[0m\u001b[1;33m\u001b[0m\u001b[0m\n\u001b[0m\u001b[0;32m    221\u001b[0m         return safe_sparse_dot(X, self.coef_.T,\n\u001b[0;32m    222\u001b[0m                                dense_output=True) + self.intercept_\n",
      "\u001b[1;32m~\\anaconda3\\envs\\futuresale\\lib\\site-packages\\sklearn\\utils\\validation.py\u001b[0m in \u001b[0;36minner_f\u001b[1;34m(*args, **kwargs)\u001b[0m\n\u001b[0;32m     61\u001b[0m             \u001b[0mextra_args\u001b[0m \u001b[1;33m=\u001b[0m \u001b[0mlen\u001b[0m\u001b[1;33m(\u001b[0m\u001b[0margs\u001b[0m\u001b[1;33m)\u001b[0m \u001b[1;33m-\u001b[0m \u001b[0mlen\u001b[0m\u001b[1;33m(\u001b[0m\u001b[0mall_args\u001b[0m\u001b[1;33m)\u001b[0m\u001b[1;33m\u001b[0m\u001b[1;33m\u001b[0m\u001b[0m\n\u001b[0;32m     62\u001b[0m             \u001b[1;32mif\u001b[0m \u001b[0mextra_args\u001b[0m \u001b[1;33m<=\u001b[0m \u001b[1;36m0\u001b[0m\u001b[1;33m:\u001b[0m\u001b[1;33m\u001b[0m\u001b[1;33m\u001b[0m\u001b[0m\n\u001b[1;32m---> 63\u001b[1;33m                 \u001b[1;32mreturn\u001b[0m \u001b[0mf\u001b[0m\u001b[1;33m(\u001b[0m\u001b[1;33m*\u001b[0m\u001b[0margs\u001b[0m\u001b[1;33m,\u001b[0m \u001b[1;33m**\u001b[0m\u001b[0mkwargs\u001b[0m\u001b[1;33m)\u001b[0m\u001b[1;33m\u001b[0m\u001b[1;33m\u001b[0m\u001b[0m\n\u001b[0m\u001b[0;32m     64\u001b[0m \u001b[1;33m\u001b[0m\u001b[0m\n\u001b[0;32m     65\u001b[0m             \u001b[1;31m# extra_args > 0\u001b[0m\u001b[1;33m\u001b[0m\u001b[1;33m\u001b[0m\u001b[1;33m\u001b[0m\u001b[0m\n",
      "\u001b[1;32m~\\anaconda3\\envs\\futuresale\\lib\\site-packages\\sklearn\\utils\\validation.py\u001b[0m in \u001b[0;36mcheck_array\u001b[1;34m(array, accept_sparse, accept_large_sparse, dtype, order, copy, force_all_finite, ensure_2d, allow_nd, ensure_min_samples, ensure_min_features, estimator)\u001b[0m\n\u001b[0;32m    671\u001b[0m                     \u001b[0marray\u001b[0m \u001b[1;33m=\u001b[0m \u001b[0marray\u001b[0m\u001b[1;33m.\u001b[0m\u001b[0mastype\u001b[0m\u001b[1;33m(\u001b[0m\u001b[0mdtype\u001b[0m\u001b[1;33m,\u001b[0m \u001b[0mcasting\u001b[0m\u001b[1;33m=\u001b[0m\u001b[1;34m\"unsafe\"\u001b[0m\u001b[1;33m,\u001b[0m \u001b[0mcopy\u001b[0m\u001b[1;33m=\u001b[0m\u001b[1;32mFalse\u001b[0m\u001b[1;33m)\u001b[0m\u001b[1;33m\u001b[0m\u001b[1;33m\u001b[0m\u001b[0m\n\u001b[0;32m    672\u001b[0m                 \u001b[1;32melse\u001b[0m\u001b[1;33m:\u001b[0m\u001b[1;33m\u001b[0m\u001b[1;33m\u001b[0m\u001b[0m\n\u001b[1;32m--> 673\u001b[1;33m                     \u001b[0marray\u001b[0m \u001b[1;33m=\u001b[0m \u001b[0mnp\u001b[0m\u001b[1;33m.\u001b[0m\u001b[0masarray\u001b[0m\u001b[1;33m(\u001b[0m\u001b[0marray\u001b[0m\u001b[1;33m,\u001b[0m \u001b[0morder\u001b[0m\u001b[1;33m=\u001b[0m\u001b[0morder\u001b[0m\u001b[1;33m,\u001b[0m \u001b[0mdtype\u001b[0m\u001b[1;33m=\u001b[0m\u001b[0mdtype\u001b[0m\u001b[1;33m)\u001b[0m\u001b[1;33m\u001b[0m\u001b[1;33m\u001b[0m\u001b[0m\n\u001b[0m\u001b[0;32m    674\u001b[0m             \u001b[1;32mexcept\u001b[0m \u001b[0mComplexWarning\u001b[0m \u001b[1;32mas\u001b[0m \u001b[0mcomplex_warning\u001b[0m\u001b[1;33m:\u001b[0m\u001b[1;33m\u001b[0m\u001b[1;33m\u001b[0m\u001b[0m\n\u001b[0;32m    675\u001b[0m                 raise ValueError(\"Complex data not supported\\n\"\n",
      "\u001b[1;32m~\\anaconda3\\envs\\futuresale\\lib\\site-packages\\pandas\\core\\indexes\\base.py\u001b[0m in \u001b[0;36m__array__\u001b[1;34m(self, dtype)\u001b[0m\n\u001b[0;32m    802\u001b[0m         \u001b[0mThe\u001b[0m \u001b[0marray\u001b[0m \u001b[0minterface\u001b[0m\u001b[1;33m,\u001b[0m \u001b[1;32mreturn\u001b[0m \u001b[0mmy\u001b[0m \u001b[0mvalues\u001b[0m\u001b[1;33m.\u001b[0m\u001b[1;33m\u001b[0m\u001b[1;33m\u001b[0m\u001b[0m\n\u001b[0;32m    803\u001b[0m         \"\"\"\n\u001b[1;32m--> 804\u001b[1;33m         \u001b[1;32mreturn\u001b[0m \u001b[0mnp\u001b[0m\u001b[1;33m.\u001b[0m\u001b[0masarray\u001b[0m\u001b[1;33m(\u001b[0m\u001b[0mself\u001b[0m\u001b[1;33m.\u001b[0m\u001b[0m_data\u001b[0m\u001b[1;33m,\u001b[0m \u001b[0mdtype\u001b[0m\u001b[1;33m=\u001b[0m\u001b[0mdtype\u001b[0m\u001b[1;33m)\u001b[0m\u001b[1;33m\u001b[0m\u001b[1;33m\u001b[0m\u001b[0m\n\u001b[0m\u001b[0;32m    805\u001b[0m \u001b[1;33m\u001b[0m\u001b[0m\n\u001b[0;32m    806\u001b[0m     \u001b[1;32mdef\u001b[0m \u001b[0m__array_wrap__\u001b[0m\u001b[1;33m(\u001b[0m\u001b[0mself\u001b[0m\u001b[1;33m,\u001b[0m \u001b[0mresult\u001b[0m\u001b[1;33m,\u001b[0m \u001b[0mcontext\u001b[0m\u001b[1;33m=\u001b[0m\u001b[1;32mNone\u001b[0m\u001b[1;33m)\u001b[0m\u001b[1;33m:\u001b[0m\u001b[1;33m\u001b[0m\u001b[1;33m\u001b[0m\u001b[0m\n",
      "\u001b[1;31mValueError\u001b[0m: could not convert string to float: 'date_block_num'"
     ]
    }
   ],
   "source": [
    "sample_submission['item_cnt_month'] = Linear_Regression.predict(test.columns).clip(0, 20)\n",
    "sample_submission.to_csv('submission_247ai.csv')"
   ]
  },
  {
   "cell_type": "code",
   "execution_count": 192,
   "id": "d6cfa0ae",
   "metadata": {},
   "outputs": [
    {
     "data": {
      "text/html": [
       "<div>\n",
       "<style scoped>\n",
       "    .dataframe tbody tr th:only-of-type {\n",
       "        vertical-align: middle;\n",
       "    }\n",
       "\n",
       "    .dataframe tbody tr th {\n",
       "        vertical-align: top;\n",
       "    }\n",
       "\n",
       "    .dataframe thead th {\n",
       "        text-align: right;\n",
       "    }\n",
       "</style>\n",
       "<table border=\"1\" class=\"dataframe\">\n",
       "  <thead>\n",
       "    <tr style=\"text-align: right;\">\n",
       "      <th></th>\n",
       "      <th>item_cnt_month</th>\n",
       "    </tr>\n",
       "  </thead>\n",
       "  <tbody>\n",
       "    <tr>\n",
       "      <th>0</th>\n",
       "      <td>2.415752</td>\n",
       "    </tr>\n",
       "    <tr>\n",
       "      <th>1</th>\n",
       "      <td>2.264751</td>\n",
       "    </tr>\n",
       "    <tr>\n",
       "      <th>2</th>\n",
       "      <td>2.371228</td>\n",
       "    </tr>\n",
       "    <tr>\n",
       "      <th>3</th>\n",
       "      <td>2.371240</td>\n",
       "    </tr>\n",
       "    <tr>\n",
       "      <th>4</th>\n",
       "      <td>2.265375</td>\n",
       "    </tr>\n",
       "  </tbody>\n",
       "</table>\n",
       "</div>"
      ],
      "text/plain": [
       "   item_cnt_month\n",
       "0        2.415752\n",
       "1        2.264751\n",
       "2        2.371228\n",
       "3        2.371240\n",
       "4        2.265375"
      ]
     },
     "execution_count": 192,
     "metadata": {},
     "output_type": "execute_result"
    }
   ],
   "source": [
    "#linear regression doesnt change so be consider this\n",
    "submission = pd.DataFrame(predicts, columns = ['item_cnt_month'])\n",
    "submission.head()"
   ]
  },
  {
   "cell_type": "code",
   "execution_count": 193,
   "id": "4a23bb18",
   "metadata": {},
   "outputs": [
    {
     "data": {
      "text/plain": [
       "(214200, 1)"
      ]
     },
     "execution_count": 193,
     "metadata": {},
     "output_type": "execute_result"
    }
   ],
   "source": [
    "submission.shape"
   ]
  },
  {
   "cell_type": "code",
   "execution_count": 194,
   "id": "0f4552a5",
   "metadata": {},
   "outputs": [
    {
     "data": {
      "text/html": [
       "<div>\n",
       "<style scoped>\n",
       "    .dataframe tbody tr th:only-of-type {\n",
       "        vertical-align: middle;\n",
       "    }\n",
       "\n",
       "    .dataframe tbody tr th {\n",
       "        vertical-align: top;\n",
       "    }\n",
       "\n",
       "    .dataframe thead th {\n",
       "        text-align: right;\n",
       "    }\n",
       "</style>\n",
       "<table border=\"1\" class=\"dataframe\">\n",
       "  <thead>\n",
       "    <tr style=\"text-align: right;\">\n",
       "      <th></th>\n",
       "      <th>item_cnt_month</th>\n",
       "    </tr>\n",
       "    <tr>\n",
       "      <th>ID</th>\n",
       "      <th></th>\n",
       "    </tr>\n",
       "  </thead>\n",
       "  <tbody>\n",
       "    <tr>\n",
       "      <th>0</th>\n",
       "      <td>2.415752</td>\n",
       "    </tr>\n",
       "    <tr>\n",
       "      <th>1</th>\n",
       "      <td>2.264751</td>\n",
       "    </tr>\n",
       "    <tr>\n",
       "      <th>2</th>\n",
       "      <td>2.371228</td>\n",
       "    </tr>\n",
       "    <tr>\n",
       "      <th>3</th>\n",
       "      <td>2.371240</td>\n",
       "    </tr>\n",
       "    <tr>\n",
       "      <th>4</th>\n",
       "      <td>2.265375</td>\n",
       "    </tr>\n",
       "  </tbody>\n",
       "</table>\n",
       "</div>"
      ],
      "text/plain": [
       "    item_cnt_month\n",
       "ID                \n",
       "0         2.415752\n",
       "1         2.264751\n",
       "2         2.371228\n",
       "3         2.371240\n",
       "4         2.265375"
      ]
     },
     "execution_count": 194,
     "metadata": {},
     "output_type": "execute_result"
    }
   ],
   "source": [
    "submission.index.name = \"ID\"\n",
    "submission.head()"
   ]
  },
  {
   "cell_type": "code",
   "execution_count": 195,
   "id": "e7e2cbfd",
   "metadata": {},
   "outputs": [],
   "source": [
    "#to make ID as a index to column\n",
    "submission.reset_index(level=0, inplace=True)\n"
   ]
  },
  {
   "cell_type": "code",
   "execution_count": 196,
   "id": "1120ac26",
   "metadata": {},
   "outputs": [
    {
     "data": {
      "text/plain": [
       "((214200, 2),\n",
       "    ID  item_cnt_month\n",
       " 0   0        2.415752\n",
       " 1   1        2.264751\n",
       " 2   2        2.371228\n",
       " 3   3        2.371240\n",
       " 4   4        2.265375)"
      ]
     },
     "execution_count": 196,
     "metadata": {},
     "output_type": "execute_result"
    }
   ],
   "source": [
    "submission.shape, submission.head()"
   ]
  },
  {
   "cell_type": "code",
   "execution_count": 197,
   "id": "f84a0262",
   "metadata": {},
   "outputs": [],
   "source": [
    "#saving as submission\n",
    "\n",
    "submission.to_csv(\"submission.csv\", index = False)"
   ]
  },
  {
   "cell_type": "markdown",
   "id": "42e704e2",
   "metadata": {},
   "source": [
    "Here, we have first arranged the training data as item_cnt_day to item_cnt_month using group by .\n",
    "then we have divided this data into two parts training and validation.(0 to 31 & 32 to33 :dat_block_num) \n",
    "then on test data which only has one feature so we have added other features by taking prediction on the required month i.e =34\n",
    "then we fit our model on Linear Regression , RF and XG Boost and checked accuracy using RMSE.\n",
    "after this we found min RMSE in Lin,\\. Reg.\n",
    "\n",
    "\n",
    "then we taken only no. of rows is equal to our test validation data (0:61209)\n",
    "then we found RMSE min for linear regression i.e 16.55.\n",
    "thus we found that linear regression is better in all case . hence we taken predicted values as our submission on kaggle.\n",
    "We need rows in submssion.csv 214200 , so we do it in steps."
   ]
  },
  {
   "cell_type": "code",
   "execution_count": 198,
   "id": "30ac6eb0",
   "metadata": {},
   "outputs": [
    {
     "data": {
      "text/plain": [
       "0         2.415752\n",
       "1         2.264751\n",
       "2         2.371228\n",
       "3         2.371240\n",
       "4         2.265375\n",
       "            ...   \n",
       "214195    2.090122\n",
       "214196    2.294431\n",
       "214197    2.140749\n",
       "214198    2.073016\n",
       "214199    2.313780\n",
       "Name: item_cnt_month, Length: 214200, dtype: float64"
      ]
     },
     "execution_count": 198,
     "metadata": {},
     "output_type": "execute_result"
    }
   ],
   "source": [
    "submission['item_cnt_month'].clip(0, 20)"
   ]
  },
  {
   "cell_type": "code",
   "execution_count": 200,
   "id": "b3472735",
   "metadata": {},
   "outputs": [
    {
     "data": {
      "text/plain": [
       "(214200, 2)"
      ]
     },
     "execution_count": 200,
     "metadata": {},
     "output_type": "execute_result"
    }
   ],
   "source": [
    "submission.shape"
   ]
  },
  {
   "cell_type": "code",
   "execution_count": null,
   "id": "2450fa5e",
   "metadata": {},
   "outputs": [],
   "source": []
  }
 ],
 "metadata": {
  "kernelspec": {
   "display_name": "Python 3",
   "language": "python",
   "name": "python3"
  },
  "language_info": {
   "codemirror_mode": {
    "name": "ipython",
    "version": 3
   },
   "file_extension": ".py",
   "mimetype": "text/x-python",
   "name": "python",
   "nbconvert_exporter": "python",
   "pygments_lexer": "ipython3",
   "version": "3.9.6"
  }
 },
 "nbformat": 4,
 "nbformat_minor": 5
}
